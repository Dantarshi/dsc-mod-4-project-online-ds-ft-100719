{
 "cells": [
  {
   "cell_type": "code",
   "execution_count": 30,
   "metadata": {},
   "outputs": [
    {
     "data": {
      "image/png": "[encoded data removed]",
      "text/plain": [
       "<Figure size 432x288 with 1 Axes>"
      ]
     },
     "metadata": {
      "needs_background": "light"
     },
     "output_type": "display_data"
    },
    {
     "name": "stdout",
     "output_type": "stream",
     "text": [
      "[55 61 62 58 59 61 55 65 50 66 51 62 57 63 78 56 75 68 70 55 68 70 61 78\n",
      " 60 78 79 64 68 54 73 73 59 67 73 50 72 63 59 59]\n"
     ]
    }
   ],
   "source": [
    "from numpy.random import seed\n",
    "from numpy.random import randint\n",
    "from numpy import mean\n",
    "# seed the random number generator, so that the experiment is #replicable\n",
    "seed(1)\n",
    "# generate a sample of men's weights\n",
    "weights = randint(50, 80, 40)\n",
    "plt.hist(weights)\n",
    "plt.show();\n",
    "print(weights)\n"
   ]
  },
  {
   "cell_type": "code",
   "execution_count": 31,
   "metadata": {},
   "outputs": [
    {
     "data": {
      "image/png": "[encoded data removed]",
      "text/plain": [
       "<Figure size 432x288 with 1 Axes>"
      ]
     },
     "metadata": {
      "needs_background": "light"
     },
     "output_type": "display_data"
    },
    {
     "name": "stdout",
     "output_type": "stream",
     "text": [
      "The mean of the sample means is 64.54627500000001\n"
     ]
    }
   ],
   "source": [
    "import matplotlib.pyplot as plt\n",
    "# seed the random number generator, so that the experiment is replicableseed(1)\n",
    "# calculate the mean of 50 men's weights 1000 times\n",
    "means = [mean(randint(50, 80, 40)) for _i in range(1000)]\n",
    "# plot the distribution of sample means\n",
    "plt.hist(means)\n",
    "plt.show();\n",
    "print('The mean of the sample means is {}'.format(mean(means)))\n"
   ]
  },
  {
   "cell_type": "code",
   "execution_count": 32,
   "metadata": {},
   "outputs": [
    {
     "name": "stdout",
     "output_type": "stream",
     "text": [
      "NormaltestResult(statistic=3.8857145225108543, pvalue=0.14329393608681193)\n"
     ]
    }
   ],
   "source": [
    "import scipy.stats as stat\n",
    "print(stat.normaltest(means))"
   ]
  },
  {
   "cell_type": "code",
   "execution_count": 33,
   "metadata": {},
   "outputs": [
    {
     "data": {
      "image/png": "[encoded data removed]",
      "text/plain": [
       "<Figure size 432x288 with 1 Axes>"
      ]
     },
     "metadata": {
      "needs_background": "light"
     },
     "output_type": "display_data"
    },
    {
     "name": "stdout",
     "output_type": "stream",
     "text": [
      "The mean of the sample means is 69.51764999999999\n"
     ]
    }
   ],
   "source": [
    "import matplotlib.pyplot as plt\n",
    "# seed the random number generator, so that the experiment is replicable seed(1)\n",
    "# calculate the mean of 50 men's weights 1000 times\n",
    "means = [mean(randint(60, 80, 40)) for _i in range(1000)]\n",
    "# plot the distribution of sample means\n",
    "plt.hist(means)\n",
    "plt.show();\n",
    "print('The mean of the sample means is {}'.format(mean(means)))\n"
   ]
  },
  {
   "cell_type": "code",
   "execution_count": 34,
   "metadata": {},
   "outputs": [
    {
     "name": "stdout",
     "output_type": "stream",
     "text": [
      "NormaltestResult(statistic=2.508831254103444, pvalue=0.2852424875233704)\n"
     ]
    }
   ],
   "source": [
    "import scipy.stats as stat\n",
    "print(stat.normaltest(means))"
   ]
  },
  {
   "cell_type": "code",
   "execution_count": 35,
   "metadata": {},
   "outputs": [
    {
     "data": {
      "image/png": "[encoded data removed]",
      "text/plain": [
       "<Figure size 432x288 with 1 Axes>"
      ]
     },
     "metadata": {
      "needs_background": "light"
     },
     "output_type": "display_data"
    },
    {
     "name": "stdout",
     "output_type": "stream",
     "text": [
      "The mean of the sample means is 74.515\n"
     ]
    }
   ],
   "source": [
    "import matplotlib.pyplot as plt\n",
    "# seed the random number generator, so that the experiment is replicableseed(1)\n",
    "# calculate the mean of 50 men's weights 1000 times\n",
    "means = [mean(randint(70, 80, 40)) for _i in range(1000)]\n",
    "# plot the distribution of sample means\n",
    "plt.hist(means)\n",
    "plt.show();\n",
    "print('The mean of the sample means is {}'.format(mean(means)))\n"
   ]
  },
  {
   "cell_type": "code",
   "execution_count": 36,
   "metadata": {},
   "outputs": [
    {
     "name": "stdout",
     "output_type": "stream",
     "text": [
      "NormaltestResult(statistic=0.6181817200518972, pvalue=0.734114065372887)\n"
     ]
    }
   ],
   "source": [
    "print(stat.normaltest(means))"
   ]
  },
  {
   "cell_type": "code",
   "execution_count": 37,
   "metadata": {},
   "outputs": [
    {
     "data": {
      "image/png": "[encoded data removed]",
      "text/plain": [
       "<Figure size 432x288 with 1 Axes>"
      ]
     },
     "metadata": {
      "needs_background": "light"
     },
     "output_type": "display_data"
    },
    {
     "name": "stdout",
     "output_type": "stream",
     "text": [
      "The mean of the sample means is 76.9993\n"
     ]
    }
   ],
   "source": [
    "import matplotlib.pyplot as plt\n",
    "# seed the random number generator, so that the experiment is replicableseed(1)\n",
    "# calculate the mean of 50 men's weights 1000 times\n",
    "means = [mean(randint(75, 80, 40)) for _i in range(1000)]\n",
    "# plot the distribution of sample means\n",
    "plt.hist(means)\n",
    "plt.show();\n",
    "print('The mean of the sample means is {}'.format(mean(means)))\n"
   ]
  },
  {
   "cell_type": "code",
   "execution_count": 38,
   "metadata": {},
   "outputs": [
    {
     "name": "stdout",
     "output_type": "stream",
     "text": [
      "NormaltestResult(statistic=1.8063674600705912, pvalue=0.40527731004133927)\n"
     ]
    }
   ],
   "source": [
    "print(stat.normaltest(means))"
   ]
  },
  {
   "cell_type": "code",
   "execution_count": null,
   "metadata": {},
   "outputs": [],
   "source": []
  }
 ],
 "metadata": {
  "kernelspec": {
   "display_name": "Python 3",
   "language": "python",
   "name": "python3"
  },
  "language_info": {
   "codemirror_mode": {
    "name": "ipython",
    "version": 3
   },
   "file_extension": ".py",
   "mimetype": "text/x-python",
   "name": "python",
   "nbconvert_exporter": "python",
   "pygments_lexer": "ipython3",
   "version": "3.6.9"
  },
  "toc": {
   "base_numbering": 1,
   "nav_menu": {},
   "number_sections": true,
   "sideBar": true,
   "skip_h1_title": false,
   "title_cell": "Table of Contents",
   "title_sidebar": "Contents",
   "toc_cell": false,
   "toc_position": {
    "height": "calc(100% - 180px)",
    "left": "10px",
    "top": "150px",
    "width": "165px"
   },
   "toc_section_display": true,
   "toc_window_display": true
  },
  "varInspector": {
   "cols": {
    "lenName": 16,
    "lenType": 16,
    "lenVar": 40
   },
   "kernels_config": {
    "python": {
     "delete_cmd_postfix": "",
     "delete_cmd_prefix": "del ",
     "library": "var_list.py",
     "varRefreshCmd": "print(var_dic_list())"
    },
    "r": {
     "delete_cmd_postfix": ") ",
     "delete_cmd_prefix": "rm(",
     "library": "var_list.r",
     "varRefreshCmd": "cat(var_dic_list()) "
    }
   },
   "types_to_exclude": [
    "module",
    "function",
    "builtin_function_or_method",
    "instance",
    "_Feature"
   ],
   "window_display": false
  }
 },
 "nbformat": 4,
 "nbformat_minor": 2
}
